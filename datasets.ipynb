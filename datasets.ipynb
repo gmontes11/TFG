{
 "cells": [
  {
   "cell_type": "markdown",
   "id": "f4069f8d-5047-401e-9228-b8b738c0d2d0",
   "metadata": {},
   "source": [
    "# DATASETS"
   ]
  },
  {
   "cell_type": "markdown",
   "id": "f6856df1-6a80-4b1a-ae97-c3a4c6df3e9c",
   "metadata": {},
   "source": [
    "## Función que ajusta los datos para que sean todos los atributos entre 0 y 1"
   ]
  },
  {
   "cell_type": "code",
   "execution_count": 24,
   "id": "285a0768-78cf-4856-990f-92090e106cec",
   "metadata": {},
   "outputs": [],
   "source": [
    "from collections import Counter\n",
    "\n",
    "def minmax_scale_features(df, label_column = \"label\"):\n",
    "    import pandas as pd\n",
    "    from sklearn.preprocessing import MinMaxScaler, LabelEncoder\n",
    "    import pandas.api.types as ptypes\n",
    "    \"\"\"\n",
    "    Escala todas las columnas de características (todas excepto la columna de etiqueta)\n",
    "    en el rango [0,1] usando MinMaxScaler y transforma la columna de etiquetas a enteros.\n",
    "    \n",
    "    Primero se verifica si la columna de etiquetas es de tipo entero o se puede convertir.\n",
    "    Si no es posible, se codifica usando LabelEncoder.\n",
    "    \n",
    "    Parameters:\n",
    "        df (pd.DataFrame): DataFrame que contiene las características y la columna de etiqueta.\n",
    "        label_column (str): Nombre de la columna de etiquetas.\n",
    "    \n",
    "    Returns:\n",
    "        tuple: (df_result, encoder)\n",
    "            - df_result (pd.DataFrame): DataFrame con las características escaladas y la columna de etiqueta codificada.\n",
    "            - encoder (LabelEncoder or None): Codificador usado para transformar las etiquetas, o None si no se usó.\n",
    "    \"\"\"\n",
    "    # Se separan las características (excluyendo la columna de etiqueta)\n",
    "    features = df.drop(columns=[label_column])\n",
    "    \n",
    "    # Escalado de las características\n",
    "    scaler = MinMaxScaler(feature_range=(0, 1))\n",
    "    features_scaled = pd.DataFrame(\n",
    "        scaler.fit_transform(features),\n",
    "        columns=features.columns,\n",
    "        index=df.index\n",
    "    )\n",
    "    \n",
    "    # Procesamiento de la columna de etiquetas:\n",
    "    # Si la columna ya es de tipo entero, se deja tal cual.\n",
    "    # En otro caso, se intenta convertirla a enteros.\n",
    "    # Si falla, se usa LabelEncoder.\n",
    "    if ptypes.is_integer_dtype(df[label_column]):\n",
    "        labels_encoded = df[label_column]\n",
    "        encoder = None\n",
    "    else:\n",
    "        try:\n",
    "            labels_encoded = df[label_column].astype(int)\n",
    "            encoder = None\n",
    "        except (ValueError, TypeError):\n",
    "            encoder = LabelEncoder()\n",
    "            labels_encoded = pd.Series(encoder.fit_transform(df[label_column]), index=df.index)\n",
    "    \n",
    "    # Se une la columna de etiquetas codificada a las características escaladas\n",
    "    df_result = features_scaled.join(labels_encoded.rename(label_column))\n",
    "    \n",
    "    return df_result\n"
   ]
  },
  {
   "cell_type": "markdown",
   "id": "4e8d3a96-d1c2-4468-adf6-9474e7e528a9",
   "metadata": {},
   "source": [
    "### MNIST with numbers\n"
   ]
  },
  {
   "cell_type": "code",
   "execution_count": 25,
   "id": "bb61a07b-2ad7-4442-86fd-8189cdbe0d59",
   "metadata": {},
   "outputs": [
    {
     "name": "stdout",
     "output_type": "stream",
     "text": [
      "(70000, 785)\n",
      "[0, 1, 2, 3, 4, 5, 6, 7, 8, 9]\n",
      "10\n"
     ]
    },
    {
     "data": {
      "text/plain": [
       "Counter({1: 7877,\n",
       "         7: 7293,\n",
       "         3: 7141,\n",
       "         2: 6990,\n",
       "         9: 6958,\n",
       "         0: 6903,\n",
       "         6: 6876,\n",
       "         8: 6825,\n",
       "         4: 6824,\n",
       "         5: 6313})"
      ]
     },
     "execution_count": 25,
     "metadata": {},
     "output_type": "execute_result"
    }
   ],
   "source": [
    "def mnist_numbers():\n",
    "    \n",
    "    import pandas as pd\n",
    "    from sklearn.datasets import fetch_openml\n",
    "    \n",
    "    # Load data from https://www.openml.org/d/554\n",
    "    X, y = fetch_openml(\"mnist_784\", version=1, return_X_y=True, as_frame=False, parser=\"pandas\")\n",
    "    \n",
    "    # Crear nombres de columnas para X: C0, C1, ..., C783\n",
    "    column_names = [f'C{i}' for i in range(X.shape[1])]\n",
    "    \n",
    "    # Crear el DataFrame a partir de X con los nombres de columna adecuados\n",
    "    df = pd.DataFrame(X, columns=column_names)\n",
    "    df[\"label\"] = y\n",
    "    df = minmax_scale_features(df)\n",
    "    return df\n",
    "df = mnist_numbers()\n",
    "print(df.shape)\n",
    "res = list(set(df[\"label\"]))\n",
    "print(res)\n",
    "print(len(res))\n",
    "Counter(df[\"label\"])"
   ]
  },
  {
   "cell_type": "markdown",
   "id": "49eb65b1-3b5b-4119-9703-b0aa372f3f00",
   "metadata": {},
   "source": [
    "### MNIST with clothes"
   ]
  },
  {
   "cell_type": "code",
   "execution_count": 27,
   "id": "5e837b9e-f09c-4831-b120-f13aeed8f1e6",
   "metadata": {},
   "outputs": [
    {
     "name": "stdout",
     "output_type": "stream",
     "text": [
      "(60000, 785)\n",
      "[0, 1, 2, 3, 4, 5, 6, 7, 8, 9]\n",
      "10\n"
     ]
    },
    {
     "data": {
      "text/plain": [
       "Counter({2: 6000,\n",
       "         9: 6000,\n",
       "         6: 6000,\n",
       "         0: 6000,\n",
       "         3: 6000,\n",
       "         4: 6000,\n",
       "         5: 6000,\n",
       "         8: 6000,\n",
       "         7: 6000,\n",
       "         1: 6000})"
      ]
     },
     "execution_count": 27,
     "metadata": {},
     "output_type": "execute_result"
    }
   ],
   "source": [
    "def mnist_with_clothes():\n",
    "    import pandas as pd\n",
    "    import gdown\n",
    "    import os\n",
    "    \n",
    "    output = 'fashion-mnist_train.csv'\n",
    "    # Get the current working directory\n",
    "    file_path = os.getcwd() + f'\\\\{output}'\n",
    "    \n",
    "    if os.path.exists(file_path):\n",
    "        df = pd.read_csv(output)\n",
    "    else:\n",
    "        file_id = '11k7ZAbGlTwnvvKOTCyfpvzOan5KsM5Au'\n",
    "        url = f'https://drive.google.com/uc?id={file_id}'\n",
    "        \n",
    "        gdown.download(url, output, quiet=False)\n",
    "        \n",
    "        # Now you can load it with pandas\n",
    "        df = pd.read_csv(output)\n",
    "        df = minmax_scale_features(df)\n",
    "    return df\n",
    "\n",
    "df = mnist_with_clothes()\n",
    "print(df.shape)\n",
    "res = list(set(df[\"label\"]))\n",
    "print(res)\n",
    "print(len(res))\n",
    "Counter(df[\"label\"])"
   ]
  },
  {
   "cell_type": "markdown",
   "id": "e6195d0a-43d2-4aa8-baf5-51d425919700",
   "metadata": {},
   "source": [
    "### Chinese MNIST"
   ]
  },
  {
   "cell_type": "code",
   "execution_count": 28,
   "id": "f5d195ac-c23e-46e2-8f96-7ce6c03bd20d",
   "metadata": {},
   "outputs": [
    {
     "name": "stdout",
     "output_type": "stream",
     "text": [
      "(15000, 4097)\n",
      "[100000000, 0, 1, 2, 100, 3, 4, 5, 1000, 9, 10, 6, 7, 8, 10000]\n",
      "15\n"
     ]
    },
    {
     "data": {
      "text/plain": [
       "Counter({9: 1000,\n",
       "         10: 1000,\n",
       "         100: 1000,\n",
       "         1000: 1000,\n",
       "         10000: 1000,\n",
       "         100000000: 1000,\n",
       "         0: 1000,\n",
       "         1: 1000,\n",
       "         2: 1000,\n",
       "         3: 1000,\n",
       "         4: 1000,\n",
       "         5: 1000,\n",
       "         6: 1000,\n",
       "         7: 1000,\n",
       "         8: 1000})"
      ]
     },
     "execution_count": 28,
     "metadata": {},
     "output_type": "execute_result"
    }
   ],
   "source": [
    "def chinese_mnist():\n",
    "    import pandas as pd\n",
    "    import gdown\n",
    "    import os\n",
    "    \n",
    "    output = 'chineseMNIST.csv'\n",
    "    file_path = os.getcwd() + f'\\\\{output}'\n",
    "    \n",
    "    if os.path.exists(file_path):\n",
    "        df = pd.read_csv(output)\n",
    "    else:\n",
    "        file_id = '1fFcfjVYtCdDSotcP19VdIGSm14znGzHD'\n",
    "        url = f'https://drive.google.com/uc?id={file_id}'\n",
    "        gdown.download(url, output, quiet=False)\n",
    "        \n",
    "        # Now you can load it with pandas\n",
    "        df = pd.read_csv(output)\n",
    "        df = minmax_scale_features(df)\n",
    "    return df\n",
    "df = chinese_mnist()\n",
    "print(df.shape)\n",
    "res = list(set(df[\"label\"]))\n",
    "print(res)\n",
    "print(len(res))\n",
    "Counter(df[\"label\"])"
   ]
  },
  {
   "cell_type": "markdown",
   "id": "15e765e0-a279-4914-af52-eb7787e61114",
   "metadata": {},
   "source": [
    "### Wine quality"
   ]
  },
  {
   "cell_type": "code",
   "execution_count": 29,
   "id": "ec39176a-0ac7-4f20-8a88-d0ee208c5900",
   "metadata": {},
   "outputs": [
    {
     "name": "stdout",
     "output_type": "stream",
     "text": [
      "(6497, 12)\n",
      "[3, 4, 5, 6, 7, 8, 9]\n",
      "7\n"
     ]
    },
    {
     "name": "stderr",
     "output_type": "stream",
     "text": [
      "C:\\Users\\Galo\\AppData\\Local\\Temp\\ipykernel_10576\\1398691805.py:11: SettingWithCopyWarning: \n",
      "A value is trying to be set on a copy of a slice from a DataFrame.\n",
      "Try using .loc[row_indexer,col_indexer] = value instead\n",
      "\n",
      "See the caveats in the documentation: https://pandas.pydata.org/pandas-docs/stable/user_guide/indexing.html#returning-a-view-versus-a-copy\n",
      "  df[\"label\"] = wine_quality.data.targets\n"
     ]
    },
    {
     "data": {
      "text/plain": [
       "Counter({6: 2836, 5: 2138, 7: 1079, 4: 216, 8: 193, 3: 30, 9: 5})"
      ]
     },
     "execution_count": 29,
     "metadata": {},
     "output_type": "execute_result"
    }
   ],
   "source": [
    "def wine():\n",
    "    import os\n",
    "    import pandas as pd\n",
    "    from ucimlrepo import fetch_ucirepo \n",
    "  \n",
    "    # fetch dataset \n",
    "    wine_quality = fetch_ucirepo(id=186) \n",
    "  \n",
    "    # data (as pandas dataframes) \n",
    "    df = wine_quality.data.features \n",
    "    df[\"label\"] = wine_quality.data.targets\n",
    "    df = minmax_scale_features(df)\n",
    "    return df\n",
    "df = wine()\n",
    "print(df.shape)\n",
    "res = list(set(df[\"label\"]))\n",
    "print(res)\n",
    "print(len(res))\n",
    "Counter(df[\"label\"])"
   ]
  },
  {
   "cell_type": "markdown",
   "id": "4f3d5cf1-3042-461b-ab59-0633c285fc35",
   "metadata": {},
   "source": [
    "### Gamma telescope"
   ]
  },
  {
   "cell_type": "code",
   "execution_count": 30,
   "id": "4e3cb574-156e-430c-9fb6-b52177a61f56",
   "metadata": {},
   "outputs": [
    {
     "name": "stdout",
     "output_type": "stream",
     "text": [
      "(19020, 11)\n",
      "[0, 1]\n",
      "2\n"
     ]
    },
    {
     "data": {
      "text/plain": [
       "Counter({0: 12332, 1: 6688})"
      ]
     },
     "execution_count": 30,
     "metadata": {},
     "output_type": "execute_result"
    }
   ],
   "source": [
    "def gamma_telescope():\n",
    "    from ucimlrepo import fetch_ucirepo \n",
    "    import pandas as pd\n",
    "    \n",
    "    # fetch dataset \n",
    "    magic_gamma_telescope = fetch_ucirepo(id=159) \n",
    "      \n",
    "    # data (as pandas dataframes) \n",
    "    df = magic_gamma_telescope.data.features \n",
    "    df[\"label\"] = magic_gamma_telescope.data.targets \n",
    "    df = minmax_scale_features(df)\n",
    "    return df\n",
    "df = gamma_telescope()\n",
    "print(df.shape)\n",
    "res = list(set(df[\"label\"]))\n",
    "print(res)\n",
    "print(len(res))\n",
    "Counter(df[\"label\"])"
   ]
  },
  {
   "cell_type": "markdown",
   "id": "9e7c4c8d-e7c9-49c6-b879-b64ba1054c51",
   "metadata": {},
   "source": [
    "### Image Segmentation"
   ]
  },
  {
   "cell_type": "code",
   "execution_count": 31,
   "id": "ff5ee0b0-1c70-4432-9be2-66b5fc3b9188",
   "metadata": {},
   "outputs": [
    {
     "name": "stdout",
     "output_type": "stream",
     "text": [
      "(210, 20)\n",
      "[0, 1, 2, 3, 4, 5, 6]\n",
      "7\n"
     ]
    },
    {
     "data": {
      "text/plain": [
       "Counter({0: 30, 5: 30, 2: 30, 1: 30, 6: 30, 4: 30, 3: 30})"
      ]
     },
     "execution_count": 31,
     "metadata": {},
     "output_type": "execute_result"
    }
   ],
   "source": [
    "def image_segmentation():\n",
    "    from ucimlrepo import fetch_ucirepo \n",
    "    import pandas as pd\n",
    "    \n",
    "    # fetch dataset \n",
    "    image_segmentation = fetch_ucirepo(id=50) \n",
    "      \n",
    "    # data (as pandas dataframes) \n",
    "    df = image_segmentation.data.features \n",
    "    df[\"label\"] = image_segmentation.data.targets \n",
    "    df = minmax_scale_features(df)\n",
    "    return df\n",
    "\n",
    "df = image_segmentation()\n",
    "print(df.shape)\n",
    "res = list(set(df[\"label\"]))\n",
    "print(res)\n",
    "print(len(res))\n",
    "Counter(df[\"label\"])"
   ]
  },
  {
   "cell_type": "markdown",
   "id": "61ec60ec-1e55-4dfe-8a44-a64416477ef2",
   "metadata": {},
   "source": [
    "### Digits Dataset from Sklearn"
   ]
  },
  {
   "cell_type": "code",
   "execution_count": 32,
   "id": "53aff58b-6cc3-428a-8b82-3fd2f7757c32",
   "metadata": {},
   "outputs": [
    {
     "name": "stdout",
     "output_type": "stream",
     "text": [
      "(1797, 65)\n",
      "[0, 1, 2, 3, 4, 5, 6, 7, 8, 9]\n",
      "10\n"
     ]
    },
    {
     "data": {
      "text/plain": [
       "Counter({3: 183,\n",
       "         1: 182,\n",
       "         5: 182,\n",
       "         4: 181,\n",
       "         6: 181,\n",
       "         9: 180,\n",
       "         7: 179,\n",
       "         0: 178,\n",
       "         2: 177,\n",
       "         8: 174})"
      ]
     },
     "execution_count": 32,
     "metadata": {},
     "output_type": "execute_result"
    }
   ],
   "source": [
    "def digits_dataset():\n",
    "    import pandas as pd\n",
    "    from sklearn.datasets import load_digits\n",
    "    digits = load_digits()\n",
    "    df = pd.DataFrame(digits.data, columns = digits.feature_names)\n",
    "    df[\"label\"] = digits.target\n",
    "    df = minmax_scale_features(df)\n",
    "    return df\n",
    "df = digits_dataset()\n",
    "print(df.shape)\n",
    "res = list(set(df[\"label\"]))\n",
    "print(res)\n",
    "print(len(res))\n",
    "Counter(df[\"label\"])"
   ]
  },
  {
   "cell_type": "markdown",
   "id": "7b248011-bb3e-4e22-a8e8-344f9c825dc3",
   "metadata": {},
   "source": [
    "### Breast Cancer"
   ]
  },
  {
   "cell_type": "code",
   "execution_count": 33,
   "id": "2f999065-17c9-4861-95ab-44ef83f53cc9",
   "metadata": {},
   "outputs": [
    {
     "name": "stdout",
     "output_type": "stream",
     "text": [
      "(569, 31)\n",
      "[0, 1]\n",
      "2\n"
     ]
    },
    {
     "data": {
      "text/plain": [
       "Counter({1: 357, 0: 212})"
      ]
     },
     "execution_count": 33,
     "metadata": {},
     "output_type": "execute_result"
    }
   ],
   "source": [
    "def load_breast_cancer():\n",
    "    import pandas as pd\n",
    "    from sklearn.datasets import load_breast_cancer\n",
    "    cancer = load_breast_cancer()\n",
    "    df = pd.DataFrame(cancer.data, columns = cancer.feature_names)\n",
    "    df[\"label\"] = cancer.target\n",
    "    df = minmax_scale_features(df)\n",
    "    return df\n",
    "df = load_breast_cancer()\n",
    "print(df.shape)\n",
    "res = list(set(df[\"label\"]))\n",
    "print(res)\n",
    "print(len(res))\n",
    "Counter(df[\"label\"])"
   ]
  }
 ],
 "metadata": {
  "kernelspec": {
   "display_name": "Python 3 (ipykernel)",
   "language": "python",
   "name": "python3"
  },
  "language_info": {
   "codemirror_mode": {
    "name": "ipython",
    "version": 3
   },
   "file_extension": ".py",
   "mimetype": "text/x-python",
   "name": "python",
   "nbconvert_exporter": "python",
   "pygments_lexer": "ipython3",
   "version": "3.11.8"
  }
 },
 "nbformat": 4,
 "nbformat_minor": 5
}
