{
 "cells": [
  {
   "cell_type": "code",
   "execution_count": 6,
   "id": "d6320a93",
   "metadata": {},
   "outputs": [
    {
     "name": "stdout",
     "output_type": "stream",
     "text": [
      "0.9319545208584991 0.008629075780375094\n",
      "0.9146963692977489 0.9492126724192492\n"
     ]
    }
   ],
   "source": [
    "import numpy as np\n",
    "v = np.array([\n",
    "         0.9292381035432296,\n",
    "         0.9358496482478598,\n",
    "         0.9436464114243689,\n",
    "         0.92410481898628,\n",
    "         0.9314002214675001,\n",
    "         0.9162392048446228,\n",
    "         0.9416635417170511,\n",
    "         0.943061882117458,\n",
    "         0.924615952655915,\n",
    "         0.9297254235807054\n",
    "      ])\n",
    "m,s = v.mean(), v.std()\n",
    "print(m,s)\n",
    "\n",
    "print(m-2*s, m+2*s)\n",
    "\n"
   ]
  },
  {
   "cell_type": "code",
   "execution_count": 7,
   "id": "a358999b",
   "metadata": {},
   "outputs": [
    {
     "name": "stdout",
     "output_type": "stream",
     "text": [
      "IC: 0.9319 [0.9265,0.9373]\n"
     ]
    }
   ],
   "source": [
    "import pandas as pd\n",
    "from scipy.stats import bootstrap\n",
    "import numpy as np\n",
    "\n",
    "\n",
    "\n",
    "res = bootstrap((v,), np.mean, confidence_level=0.95,n_resamples=10000, method='percentile')\n",
    "ci = res.confidence_interval\n",
    "\n",
    "print(f\"IC: { ci.low + (ci.high-ci.low)/2:.4f} [{ci.low:.4f},{ci.high:.4f}]\")"
   ]
  },
  {
   "cell_type": "code",
   "execution_count": 9,
   "id": "1fa8f172",
   "metadata": {},
   "outputs": [],
   "source": [
    "pversusd = np.array([\n",
    "         0.19791985316610583,\n",
    "         0.3423760523854068,\n",
    "         0.5195129566031846,\n",
    "         0.17958783120706567,\n",
    "         0.4463410779200253,\n",
    "         0.3472609099350047,\n",
    "         0.3998141839578817,\n",
    "         0.14323607427055707,\n",
    "         0.2885844748858448,\n",
    "         0.39450770261219015,\n",
    "         0.30168453292496167,\n",
    "         0.3720491029272899,\n",
    "         0.41347053320860616,\n",
    "         0.37636761487965,\n",
    "         0.3510786900512184,\n",
    "         0.3365838313935199,\n",
    "         0.4259993896856882,\n",
    "         0.30984166407947844,\n",
    "         0.22997172478793582,\n",
    "         0.34559398966974486,\n",
    "         0.4472943384422897,\n",
    "         0.27128157156220756,\n",
    "         0.3374120526154787,\n",
    "         0.5001623903864891,\n",
    "         0.3581571473650995\n",
    "      ])\n",
    "\n",
    "dversusd = np.array([\n",
    "         0.2747652226598001,\n",
    "         0.26670850329463447,\n",
    "         0.45647493079052603,\n",
    "         0.19798994974874373,\n",
    "         0.06094182825484762,\n",
    "         0.29802955665024633,\n",
    "         0.45446125347329425,\n",
    "         0.17724068479355481,\n",
    "         0.26788990825688064,\n",
    "         0.39753415528157277,\n",
    "         0.22232558139534886,\n",
    "         0.36241610738255026,\n",
    "         0.265947888589398,\n",
    "         0.17051565960139192,\n",
    "         0.3344699318040917,\n",
    "         0.36154324828873674,\n",
    "         0.42296741537488136,\n",
    "         0.22699386503067476,\n",
    "         0.05258386219401634,\n",
    "         0.0,\n",
    "         -0.004622941346431597,\n",
    "         0.25140712945591004,\n",
    "         0.2907435508345978,\n",
    "         0.45962732919254656,\n",
    "         0.07718174539631706\n",
    "      ])"
   ]
  },
  {
   "cell_type": "markdown",
   "id": "a07b66ec",
   "metadata": {},
   "source": [
    "Consideramos la variable diferencia de variables"
   ]
  },
  {
   "cell_type": "code",
   "execution_count": 10,
   "id": "acec658f",
   "metadata": {},
   "outputs": [
    {
     "name": "stdout",
     "output_type": "stream",
     "text": [
      "Diferencia de medias: 0.0916\n",
      "Intervalo de confianza al 95%: [0.0294,0.1576]\n"
     ]
    }
   ],
   "source": [
    "def mean_diff(data1, data2):\n",
    "    return (data1.mean() - data2.mean())\n",
    "\n",
    "# Bootstrapping para calcular la diferencia de medias\n",
    "boot_result = bootstrap((pversusd, dversusd), mean_diff,  confidence_level=0.95)\n",
    "\n",
    "# Resultados\n",
    "print(f\"Diferencia de medias: {mean_diff(pversusd, dversusd):.4f}\")\n",
    "print(f\"Intervalo de confianza al 95%: [{boot_result.confidence_interval.low:.4f},{boot_result.confidence_interval.high:.4f}]\")\n"
   ]
  },
  {
   "cell_type": "markdown",
   "id": "687a6121",
   "metadata": {},
   "source": [
    "pversusd es mejor dversusd"
   ]
  }
 ],
 "metadata": {
  "kernelspec": {
   "display_name": "Python 3 (ipykernel)",
   "language": "python",
   "name": "python3"
  },
  "language_info": {
   "codemirror_mode": {
    "name": "ipython",
    "version": 3
   },
   "file_extension": ".py",
   "mimetype": "text/x-python",
   "name": "python",
   "nbconvert_exporter": "python",
   "pygments_lexer": "ipython3",
   "version": "3.11.8"
  }
 },
 "nbformat": 4,
 "nbformat_minor": 5
}
