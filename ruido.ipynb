{
 "cells": [
  {
   "cell_type": "markdown",
   "id": "95d17c25-071d-4ef8-a775-f931bc2ede73",
   "metadata": {},
   "source": [
    "# Notebook para meter ruido en las etiquetas de una base de datos\n"
   ]
  },
  {
   "cell_type": "code",
   "execution_count": 1,
   "id": "65689d75-fec5-4544-83bb-72993540fc1b",
   "metadata": {},
   "outputs": [],
   "source": [
    "def meter_ruido(y,pr):\n",
    "    \n",
    "    import numpy as np\n",
    "    import copy\n",
    "    import random\n",
    "    \n",
    "    \"\"\"\n",
    "    Función que mete ruido en unas etiquetas dadas\n",
    "    yy : etiquetas donde queremos meter el ruido\n",
    "    pr : porcentaje de ruido que metemos en las etiquetas\n",
    "    \"\"\"\n",
    "\n",
    "    yy = copy.deepcopy(y)\n",
    "    clases = np.unique(y)\n",
    "    n = len(clases) #Numero de clases que hay \n",
    "    #Index donde se metera el ruido en la base de datos\n",
    "    a = len(y) #Numero de ejemplos\n",
    "    nr = int(a*pr) #Numero de ejemplos que seran ruido\n",
    "    index = random.sample(range(0, a-1),nr)  #Índices datos que cambiaremos       \n",
    "    for i in index:\n",
    "        m=0\n",
    "        # buscar la posición en clases del elemento i-ésimo de y\n",
    "        while clases[m]!=y[i]:\n",
    "            m+=1\n",
    "        num = random.randint(0,n-2)\n",
    "        if num<m:\n",
    "            yy[i] = clases[num]\n",
    "        else:\n",
    "            yy[i] = clases[num+1]\n",
    "    ruido = np.array(y) != yy\n",
    "    return yy,ruido\n",
    "\n",
    "\n",
    "def excel_con_ruido(y_mal, ruido, filename, name_dataset):\n",
    "    \n",
    "    \"\"\"\n",
    "    Función que genera un excel con el ruido introducido en un dataset\n",
    "    y_mal : etiquetas con ruido\n",
    "    ruido : vector de true o false con los lugares donde se ha cambiado la etiqueta\n",
    "    filename : nombre del archivo\n",
    "    name_dataset : nombre del dataset donde se ha introducido ruido\n",
    "    \"\"\"\n",
    "    \n",
    "    import csv \n",
    "    import os\n",
    "    \n",
    "    path = \"ruido_en_\" + name_dataset + \"_\" + filename + \".csv\" #Nombre del file con ruido\n",
    "    open(path, mode='w', newline='')\n",
    "\n",
    "    \"\"\"\n",
    "    Estructura archivo:\n",
    "    - Nombre Dataset\n",
    "    - Titulos de las dos siguientes filas\n",
    "    - Etiquetas con ruido: la clase asociado para cada ejemplo del dataset una vez introducido el ruido\n",
    "    - Vector de True y False: True cuando hay ruido y False cuando no hay\n",
    "    \"\"\"\n",
    "    with open(path, mode='a', newline='') as file:\n",
    "        writer = csv.writer(file)\n",
    "        writer.writerow([\"Etiquetas con ruido\", \"Valores donde hay ruido\"])\n",
    "        for i in range(0,len(y_mal)):\n",
    "            writer.writerow([y_mal[i],ruido[i]])\n",
    "    file.close()\n",
    "            \n",
    "    return path"
   ]
  },
  {
   "cell_type": "code",
   "execution_count": 2,
   "id": "2a0a504a-e882-4447-b2c5-224c3c04faf7",
   "metadata": {},
   "outputs": [
    {
     "name": "stderr",
     "output_type": "stream",
     "text": [
      "C:\\Users\\Galo\\Documents\\Matematicas\\4 Mates\\TFG\\datasets.ipynb:92: SettingWithCopyWarning: \n",
      "A value is trying to be set on a copy of a slice from a DataFrame.\n",
      "Try using .loc[row_indexer,col_indexer] = value instead\n",
      "\n",
      "See the caveats in the documentation: https://pandas.pydata.org/pandas-docs/stable/user_guide/indexing.html#returning-a-view-versus-a-copy\n",
      "  \"execution_count\": 13,\n"
     ]
    }
   ],
   "source": [
    "from ipynb.fs.full.datasets import *\n",
    "\n",
    "datasets = {\"mnist_numbers\" : mnist_numbers(), \"mnist_with_clothes\" : mnist_with_clothes(), \"chinese_mnist\" : chinese_mnist(),   \\\n",
    "            \"wine\" : wine(), \"gamma_telescope\" : gamma_telescope(),   \\\n",
    "            \"image_segmentation\": image_segmentation(), \"digits_dataset\": digits_dataset(), \"breast_cancer\": load_breast_cancer()}"
   ]
  },
  {
   "cell_type": "code",
   "execution_count": 7,
   "id": "8577ed00-06e3-47bd-8d70-e2873450bc43",
   "metadata": {},
   "outputs": [
    {
     "name": "stdout",
     "output_type": "stream",
     "text": [
      "ruido_en_mnist_numbers_0.75.csv\n",
      "ruido_en_mnist_with_clothes_0.75.csv\n",
      "ruido_en_chinese_mnist_0.75.csv\n",
      "ruido_en_wine_0.75.csv\n",
      "ruido_en_gamma_telescope_0.75.csv\n",
      "ruido_en_image_segmentation_0.75.csv\n",
      "ruido_en_digits_dataset_0.75.csv\n",
      "ruido_en_breast_cancer_0.75.csv\n"
     ]
    }
   ],
   "source": [
    "for df_str in datasets:\n",
    "    df = datasets.get(df_str)\n",
    "    y = df[\"label\"].to_numpy() #Etiquetas\n",
    "    y_mal,ruido = meter_ruido(y,0.75)\n",
    "    file_con_ruido = excel_con_ruido(y_mal,ruido,\"0.75\",df_str)\n",
    "    print(file_con_ruido)"
   ]
  }
 ],
 "metadata": {
  "kernelspec": {
   "display_name": "Python 3 (ipykernel)",
   "language": "python",
   "name": "python3"
  },
  "language_info": {
   "codemirror_mode": {
    "name": "ipython",
    "version": 3
   },
   "file_extension": ".py",
   "mimetype": "text/x-python",
   "name": "python",
   "nbconvert_exporter": "python",
   "pygments_lexer": "ipython3",
   "version": "3.11.8"
  }
 },
 "nbformat": 4,
 "nbformat_minor": 5
}
