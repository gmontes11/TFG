{
 "cells": [
  {
   "cell_type": "markdown",
   "id": "11d88ab4-d1af-430d-aac6-7256a3f76e5d",
   "metadata": {},
   "source": [
    "## Utilizar este código para la fase 2"
   ]
  },
  {
   "cell_type": "code",
   "execution_count": 12,
   "id": "d8c72ae8-8d2d-4c77-ae07-883390d49b42",
   "metadata": {
    "scrolled": true
   },
   "outputs": [
    {
     "name": "stdout",
     "output_type": "stream",
     "text": [
      "-5.999999999999999 4.0\n",
      "-2.9999999999999996 6.999999999999999\n",
      "-2.0 18.0\n",
      "<class 'numpy.ndarray'>\n"
     ]
    },
    {
     "data": {
      "text/plain": [
       "array([[<Axes: title={'center': 'pr'}>, <Axes: title={'center': 'pa'}>],\n",
       "       [<Axes: title={'center': 'pv'}>, <Axes: >]], dtype=object)"
      ]
     },
     "execution_count": 12,
     "metadata": {},
     "output_type": "execute_result"
    },
    {
     "data": {
      "image/png": "[encoded data removed]",
      "text/plain": [
       "<Figure size 640x480 with 4 Axes>"
      ]
     },
     "metadata": {},
     "output_type": "display_data"
    }
   ],
   "source": [
    "import numpy as np\n",
    "import pandas as pd\n",
    "from scipy.stats import truncnorm\n",
    "import matplotlib\n",
    "\n",
    "# Función auxiliar para muestrear de una normal truncada en [0, 1]\n",
    "def sample_truncnorm(mu, sigma, size):\n",
    "    a, b = (0 - mu) / sigma, (1 - mu) / sigma\n",
    "    print(a,b)\n",
    "    return truncnorm.rvs(a, b, loc=mu, scale=sigma, size=size)\n",
    "\n",
    "# Parámetros de las normales para rojo, azul, verde\n",
    "mu_r, sigma_r = 0.6, 0.1\n",
    "mu_a, sigma_a = 0.3, 0.1\n",
    "mu_v, sigma_v = 0.1, 0.05\n",
    "\n",
    "# Número de muestras\n",
    "n = 1000\n",
    "\n",
    "# Muestreo independiente de cada componente\n",
    "x_r = sample_truncnorm(mu_r, sigma_r, n)\n",
    "x_a = sample_truncnorm(mu_a, sigma_a, n)\n",
    "x_v = sample_truncnorm(mu_v, sigma_v, n)\n",
    "\n",
    "print(type(x_r))\n",
    "\n",
    "# Normalización para que sumen 1\n",
    "total = x_r + x_a + x_v\n",
    "p_r = x_r / total\n",
    "p_a = x_a / total\n",
    "p_v = x_v / total\n",
    "\n",
    "df = pd.DataFrame({\"pr\":p_r,\"pa\":p_a,\"pv\":p_v})\n",
    "df.hist()"
   ]
  },
  {
   "cell_type": "markdown",
   "id": "508c4bb5-0bba-4ed9-812a-1b1907332a5a",
   "metadata": {},
   "source": [
    "### En principio este no sirve para nada pero por si acaso\n"
   ]
  },
  {
   "cell_type": "code",
   "execution_count": null,
   "id": "949c8812-41a1-444c-811c-8b01bc2da952",
   "metadata": {},
   "outputs": [],
   "source": [
    "import numpy as np\n",
    "from scipy.stats import dirichlet\n",
    "import pandas as pd\n",
    "import matplotlib\n",
    "\n",
    "alpha = np.array([1, 70, 9, 10])\n",
    "A = dirichlet.rvs(alpha, size=1000)\n",
    "df = pd.DataFrame({\"p1\":list(A[:,0]),\"p2\":list(A[:,1]),\"p3\":list(A[:,2]),\"p4\":list(A[:,3])})\n",
    "df.hist()"
   ]
  },
  {
   "cell_type": "code",
   "execution_count": 3,
   "id": "59b68aef-4ace-4a57-b153-2255b69e2f5b",
   "metadata": {},
   "outputs": [
    {
     "data": {
      "text/html": [
       "<div>\n",
       "<style scoped>\n",
       "    .dataframe tbody tr th:only-of-type {\n",
       "        vertical-align: middle;\n",
       "    }\n",
       "\n",
       "    .dataframe tbody tr th {\n",
       "        vertical-align: top;\n",
       "    }\n",
       "\n",
       "    .dataframe thead th {\n",
       "        text-align: right;\n",
       "    }\n",
       "</style>\n",
       "<table border=\"1\" class=\"dataframe\">\n",
       "  <thead>\n",
       "    <tr style=\"text-align: right;\">\n",
       "      <th></th>\n",
       "      <th>pr</th>\n",
       "      <th>pa</th>\n",
       "      <th>pv</th>\n",
       "    </tr>\n",
       "  </thead>\n",
       "  <tbody>\n",
       "    <tr>\n",
       "      <th>count</th>\n",
       "      <td>1000.00</td>\n",
       "      <td>1000.00</td>\n",
       "      <td>1000.00</td>\n",
       "    </tr>\n",
       "    <tr>\n",
       "      <th>mean</th>\n",
       "      <td>0.60</td>\n",
       "      <td>0.30</td>\n",
       "      <td>0.10</td>\n",
       "    </tr>\n",
       "    <tr>\n",
       "      <th>std</th>\n",
       "      <td>0.08</td>\n",
       "      <td>0.08</td>\n",
       "      <td>0.05</td>\n",
       "    </tr>\n",
       "    <tr>\n",
       "      <th>min</th>\n",
       "      <td>0.37</td>\n",
       "      <td>0.03</td>\n",
       "      <td>0.00</td>\n",
       "    </tr>\n",
       "    <tr>\n",
       "      <th>25%</th>\n",
       "      <td>0.55</td>\n",
       "      <td>0.25</td>\n",
       "      <td>0.07</td>\n",
       "    </tr>\n",
       "    <tr>\n",
       "      <th>50%</th>\n",
       "      <td>0.60</td>\n",
       "      <td>0.31</td>\n",
       "      <td>0.10</td>\n",
       "    </tr>\n",
       "    <tr>\n",
       "      <th>75%</th>\n",
       "      <td>0.65</td>\n",
       "      <td>0.35</td>\n",
       "      <td>0.13</td>\n",
       "    </tr>\n",
       "    <tr>\n",
       "      <th>max</th>\n",
       "      <td>0.86</td>\n",
       "      <td>0.51</td>\n",
       "      <td>0.29</td>\n",
       "    </tr>\n",
       "  </tbody>\n",
       "</table>\n",
       "</div>"
      ],
      "text/plain": [
       "            pr       pa       pv\n",
       "count  1000.00  1000.00  1000.00\n",
       "mean      0.60     0.30     0.10\n",
       "std       0.08     0.08     0.05\n",
       "min       0.37     0.03     0.00\n",
       "25%       0.55     0.25     0.07\n",
       "50%       0.60     0.31     0.10\n",
       "75%       0.65     0.35     0.13\n",
       "max       0.86     0.51     0.29"
      ]
     },
     "execution_count": 3,
     "metadata": {},
     "output_type": "execute_result"
    }
   ],
   "source": [
    "df.describe().round(2)"
   ]
  },
  {
   "cell_type": "code",
   "execution_count": 4,
   "id": "821a0292-1a22-457b-a420-504482a31d4a",
   "metadata": {},
   "outputs": [
    {
     "data": {
      "text/plain": [
       "(pr    0.169802\n",
       " pa   -0.282922\n",
       " pv    0.262538\n",
       " dtype: float64,\n",
       " pr    0.148338\n",
       " pa    0.138314\n",
       " pv   -0.053420\n",
       " dtype: float64)"
      ]
     },
     "execution_count": 4,
     "metadata": {},
     "output_type": "execute_result"
    }
   ],
   "source": [
    "df.skew(), df.kurtosis()"
   ]
  },
  {
   "cell_type": "markdown",
   "id": "85e7d8a3-e02e-4419-955a-b6311c4f2999",
   "metadata": {},
   "source": [
    "## 🎯 ¿La normalización de normales truncadas da otra normal truncada?\n",
    "\n",
    "### ❓ Pregunta:\n",
    "Si tengo tres variables aleatorias \\( x_r, x_a, x_v \\) que siguen distribuciones normales truncadas entre 0 y 1, y luego defino:\n",
    "\n",
    "$$\n",
    "p_r = \\frac{x_r}{x_r + x_a + x_v}, \\quad\n",
    "p_a = \\frac{x_a}{x_r + x_a + x_v}, \\quad\n",
    "p_v = \\frac{x_v}{x_r + x_a + x_v}\n",
    "$$\n",
    "\n",
    "¿Siguen \\( p_r, p_a, p_v \\) una distribución normal truncada?\n",
    "\n",
    "---\n",
    "\n",
    "### ❌ Respuesta: No\n",
    "\n",
    "Al normalizar, estás aplicando una **transformación no lineal** a variables aleatorias independientes. Esto rompe tanto la independencia como la forma de las distribuciones marginales. El resultado **ya no es una normal truncada**.\n",
    "\n",
    "---\n",
    "\n",
    "### 🔄 ¿Qué ocurre entonces?\n",
    "\n",
    "El vector \\( (p_r, p_a, p_v) \\) vive en el **simplex**:\n",
    "\n",
    "$$\n",
    "\\Delta^2 = \\left\\{ (p_1, p_2, p_3) \\in [0,1]^3 : p_1 + p_2 + p_3 = 1 \\right\\}\n",
    "$$\n",
    "\n",
    "Y su distribución:\n",
    "\n",
    "- No tiene una forma cerrada conocida.\n",
    "- No es Dirichlet (aunque se parece en espíritu).\n",
    "- Es una distribución **inducida** por la normalización de normales truncadas independientes.\n",
    "\n",
    "---\n",
    "\n",
    "### 🧪 Comparación con el caso Dirichlet\n",
    "\n",
    "Si en lugar de normales truncadas usáramos:\n",
    "\n",
    "$$\n",
    "x_i \\sim \\text{Gamma}(\\alpha_i, 1)\n",
    "$$\n",
    "\n",
    "y luego:\n",
    "\n",
    "$$\n",
    "p_i = \\frac{x_i}{\\sum_j x_j}\n",
    "$$\n",
    "\n",
    "entonces sí se tendría:\n",
    "\n",
    "$$\n",
    "(p_1, p_2, p_3) \\sim \\text{Dirichlet}(\\alpha_1, \\alpha_2, \\alpha_3)\n",
    "$$\n",
    "\n",
    "---\n",
    "\n",
    "### ✅ Conclusión\n",
    "\n",
    "| Etapa                     | Descripción |\n",
    "|---------------------------|-------------|\n",
    "| **Antes de normalizar**   | $( x_i \\sim \\text{Normal truncada}$, independientes |\n",
    "| **Después de normalizar** | $( p_i = x_i / (x_r + x_a + x_v)$, dependientes |\n",
    "| **Resultado**             | Distribución sobre el simplex, válida pero no estándar |\n",
    "| **No son normales truncadas** | Aunque los $ x_i$ lo eran originalmente |\n",
    "\n",
    "---\n",
    "\n",
    "### 💡 Nota útil\n",
    "\n",
    "Este método es muy válido para generar **vectores de pertenencia fuzzy plausibles** con incertidumbre, y es más flexible que la Dirichlet si quieres controlar las formas con medias y desviaciones.\n",
    "\n"
   ]
  },
  {
   "cell_type": "code",
   "execution_count": null,
   "id": "bc1e59e5-e1cf-4525-97ae-5ca035729ac4",
   "metadata": {},
   "outputs": [],
   "source": []
  }
 ],
 "metadata": {
  "kernelspec": {
   "display_name": "Python 3 (ipykernel)",
   "language": "python",
   "name": "python3"
  },
  "language_info": {
   "codemirror_mode": {
    "name": "ipython",
    "version": 3
   },
   "file_extension": ".py",
   "mimetype": "text/x-python",
   "name": "python",
   "nbconvert_exporter": "python",
   "pygments_lexer": "ipython3",
   "version": "3.11.8"
  }
 },
 "nbformat": 4,
 "nbformat_minor": 5
}
